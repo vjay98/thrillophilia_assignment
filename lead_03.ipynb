{
 "cells": [
  {
   "cell_type": "markdown",
   "id": "1673b6ad",
   "metadata": {},
   "source": [
    "# Lead Funnel Conversion Analysis "
   ]
  },
  {
   "cell_type": "code",
   "execution_count": 1,
   "id": "1cca3ebb",
   "metadata": {},
   "outputs": [],
   "source": [
    "import pandas as pd\n",
    "import numpy as np\n",
    "import matplotlib.pyplot as plt\n",
    "import seaborn as sns\n",
    "%matplotlib inline"
   ]
  },
  {
   "cell_type": "code",
   "execution_count": 2,
   "id": "cd66b843",
   "metadata": {},
   "outputs": [
    {
     "data": {
      "text/html": [
       "<div>\n",
       "<style scoped>\n",
       "    .dataframe tbody tr th:only-of-type {\n",
       "        vertical-align: middle;\n",
       "    }\n",
       "\n",
       "    .dataframe tbody tr th {\n",
       "        vertical-align: top;\n",
       "    }\n",
       "\n",
       "    .dataframe thead th {\n",
       "        text-align: right;\n",
       "    }\n",
       "</style>\n",
       "<table border=\"1\" class=\"dataframe\">\n",
       "  <thead>\n",
       "    <tr style=\"text-align: right;\">\n",
       "      <th></th>\n",
       "      <th>LeadID</th>\n",
       "      <th>Lead Source</th>\n",
       "      <th>Lead Score</th>\n",
       "      <th>Converted</th>\n",
       "    </tr>\n",
       "  </thead>\n",
       "  <tbody>\n",
       "    <tr>\n",
       "      <th>0</th>\n",
       "      <td>L0001</td>\n",
       "      <td>Twitter</td>\n",
       "      <td>22</td>\n",
       "      <td>No</td>\n",
       "    </tr>\n",
       "    <tr>\n",
       "      <th>1</th>\n",
       "      <td>L0002</td>\n",
       "      <td>Google Ads</td>\n",
       "      <td>90</td>\n",
       "      <td>No</td>\n",
       "    </tr>\n",
       "    <tr>\n",
       "      <th>2</th>\n",
       "      <td>L0003</td>\n",
       "      <td>Twitter</td>\n",
       "      <td>15</td>\n",
       "      <td>No</td>\n",
       "    </tr>\n",
       "    <tr>\n",
       "      <th>3</th>\n",
       "      <td>L0004</td>\n",
       "      <td>Facebook</td>\n",
       "      <td>92</td>\n",
       "      <td>Yes</td>\n",
       "    </tr>\n",
       "    <tr>\n",
       "      <th>4</th>\n",
       "      <td>L0005</td>\n",
       "      <td>Email</td>\n",
       "      <td>86</td>\n",
       "      <td>Yes</td>\n",
       "    </tr>\n",
       "  </tbody>\n",
       "</table>\n",
       "</div>"
      ],
      "text/plain": [
       "  LeadID Lead Source  Lead Score Converted\n",
       "0  L0001     Twitter          22        No\n",
       "1  L0002  Google Ads          90        No\n",
       "2  L0003     Twitter          15        No\n",
       "3  L0004    Facebook          92       Yes\n",
       "4  L0005       Email          86       Yes"
      ]
     },
     "execution_count": 2,
     "metadata": {},
     "output_type": "execute_result"
    }
   ],
   "source": [
    "df = pd.read_csv('marketing_dummy_datasets/lead_conversion_funnel_data.csv')\n",
    "df.head()"
   ]
  },
  {
   "cell_type": "code",
   "execution_count": 3,
   "id": "0d68c4a1",
   "metadata": {},
   "outputs": [
    {
     "name": "stdout",
     "output_type": "stream",
     "text": [
      "<class 'pandas.core.frame.DataFrame'>\n",
      "RangeIndex: 500 entries, 0 to 499\n",
      "Data columns (total 4 columns):\n",
      " #   Column       Non-Null Count  Dtype \n",
      "---  ------       --------------  ----- \n",
      " 0   LeadID       500 non-null    object\n",
      " 1   Lead Source  500 non-null    object\n",
      " 2   Lead Score   500 non-null    int64 \n",
      " 3   Converted    500 non-null    object\n",
      "dtypes: int64(1), object(3)\n",
      "memory usage: 15.8+ KB\n"
     ]
    }
   ],
   "source": [
    "df.info()"
   ]
  },
  {
   "cell_type": "code",
   "execution_count": 4,
   "id": "474fa20a",
   "metadata": {},
   "outputs": [],
   "source": [
    "df.columns = df.columns.str.lower().str.replace(' ', '_')"
   ]
  },
  {
   "cell_type": "code",
   "execution_count": 11,
   "id": "7567718c",
   "metadata": {},
   "outputs": [
    {
     "data": {
      "text/html": [
       "<div>\n",
       "<style scoped>\n",
       "    .dataframe tbody tr th:only-of-type {\n",
       "        vertical-align: middle;\n",
       "    }\n",
       "\n",
       "    .dataframe tbody tr th {\n",
       "        vertical-align: top;\n",
       "    }\n",
       "\n",
       "    .dataframe thead th {\n",
       "        text-align: right;\n",
       "    }\n",
       "</style>\n",
       "<table border=\"1\" class=\"dataframe\">\n",
       "  <thead>\n",
       "    <tr style=\"text-align: right;\">\n",
       "      <th></th>\n",
       "      <th>leadid</th>\n",
       "      <th>lead_source</th>\n",
       "      <th>lead_score</th>\n",
       "      <th>converted</th>\n",
       "    </tr>\n",
       "  </thead>\n",
       "  <tbody>\n",
       "    <tr>\n",
       "      <th>count</th>\n",
       "      <td>500</td>\n",
       "      <td>500</td>\n",
       "      <td>500.000000</td>\n",
       "      <td>500</td>\n",
       "    </tr>\n",
       "    <tr>\n",
       "      <th>unique</th>\n",
       "      <td>500</td>\n",
       "      <td>5</td>\n",
       "      <td>NaN</td>\n",
       "      <td>2</td>\n",
       "    </tr>\n",
       "    <tr>\n",
       "      <th>top</th>\n",
       "      <td>L0001</td>\n",
       "      <td>Google Ads</td>\n",
       "      <td>NaN</td>\n",
       "      <td>No</td>\n",
       "    </tr>\n",
       "    <tr>\n",
       "      <th>freq</th>\n",
       "      <td>1</td>\n",
       "      <td>166</td>\n",
       "      <td>NaN</td>\n",
       "      <td>314</td>\n",
       "    </tr>\n",
       "    <tr>\n",
       "      <th>mean</th>\n",
       "      <td>NaN</td>\n",
       "      <td>NaN</td>\n",
       "      <td>55.810000</td>\n",
       "      <td>NaN</td>\n",
       "    </tr>\n",
       "    <tr>\n",
       "      <th>std</th>\n",
       "      <td>NaN</td>\n",
       "      <td>NaN</td>\n",
       "      <td>26.648418</td>\n",
       "      <td>NaN</td>\n",
       "    </tr>\n",
       "    <tr>\n",
       "      <th>min</th>\n",
       "      <td>NaN</td>\n",
       "      <td>NaN</td>\n",
       "      <td>10.000000</td>\n",
       "      <td>NaN</td>\n",
       "    </tr>\n",
       "    <tr>\n",
       "      <th>25%</th>\n",
       "      <td>NaN</td>\n",
       "      <td>NaN</td>\n",
       "      <td>32.000000</td>\n",
       "      <td>NaN</td>\n",
       "    </tr>\n",
       "    <tr>\n",
       "      <th>50%</th>\n",
       "      <td>NaN</td>\n",
       "      <td>NaN</td>\n",
       "      <td>57.500000</td>\n",
       "      <td>NaN</td>\n",
       "    </tr>\n",
       "    <tr>\n",
       "      <th>75%</th>\n",
       "      <td>NaN</td>\n",
       "      <td>NaN</td>\n",
       "      <td>79.000000</td>\n",
       "      <td>NaN</td>\n",
       "    </tr>\n",
       "    <tr>\n",
       "      <th>max</th>\n",
       "      <td>NaN</td>\n",
       "      <td>NaN</td>\n",
       "      <td>100.000000</td>\n",
       "      <td>NaN</td>\n",
       "    </tr>\n",
       "  </tbody>\n",
       "</table>\n",
       "</div>"
      ],
      "text/plain": [
       "       leadid lead_source  lead_score converted\n",
       "count     500         500  500.000000       500\n",
       "unique    500           5         NaN         2\n",
       "top     L0001  Google Ads         NaN        No\n",
       "freq        1         166         NaN       314\n",
       "mean      NaN         NaN   55.810000       NaN\n",
       "std       NaN         NaN   26.648418       NaN\n",
       "min       NaN         NaN   10.000000       NaN\n",
       "25%       NaN         NaN   32.000000       NaN\n",
       "50%       NaN         NaN   57.500000       NaN\n",
       "75%       NaN         NaN   79.000000       NaN\n",
       "max       NaN         NaN  100.000000       NaN"
      ]
     },
     "execution_count": 11,
     "metadata": {},
     "output_type": "execute_result"
    }
   ],
   "source": [
    "df.describe(include='all')"
   ]
  },
  {
   "cell_type": "code",
   "execution_count": 16,
   "id": "faaf29a3",
   "metadata": {},
   "outputs": [
    {
     "name": "stdout",
     "output_type": "stream",
     "text": [
      "Overall Conversion Rate: 37.20%\n"
     ]
    }
   ],
   "source": [
    "df['converted_flag'] = df['converted'].map({\"Yes\": 1, \"No\": 0})\n",
    "conversion_rate = df['converted_flag'].mean()\n",
    "print(f\"Overall Conversion Rate: {conversion_rate:.2%}\")"
   ]
  },
  {
   "cell_type": "markdown",
   "id": "ed3e0b3d",
   "metadata": {},
   "source": [
    "Overall conversion rate is 37.2%, which is a decent baseline across all lead sources.\n",
    "\n",
    "## Lead Score Distribution by Conversion Status"
   ]
  },
  {
   "cell_type": "code",
   "execution_count": 9,
   "id": "31ec030c",
   "metadata": {},
   "outputs": [
    {
     "name": "stderr",
     "output_type": "stream",
     "text": [
      "/tmp/ipykernel_56294/2909700702.py:2: FutureWarning: \n",
      "\n",
      "Passing `palette` without assigning `hue` is deprecated and will be removed in v0.14.0. Assign the `x` variable to `hue` and set `legend=False` for the same effect.\n",
      "\n",
      "  sns.boxplot(data= df, x= 'converted', y= 'lead_score', palette= 'Set2')\n"
     ]
    },
    {
     "data": {
      "image/png": "[encoded data removed]",
      "text/plain": [
       "<Figure size 800x500 with 1 Axes>"
      ]
     },
     "metadata": {},
     "output_type": "display_data"
    }
   ],
   "source": [
    "plt.figure(figsize=(8,5))\n",
    "sns.boxplot(data= df, x= 'converted', y= 'lead_score', palette= 'Set2')\n",
    "plt.title('Lead Score Distribution by Conversion Status')\n",
    "plt.xlabel('Converted')\n",
    "plt.ylabel('Lead Score')\n",
    "plt.tight_layout()\n",
    "plt.show()"
   ]
  },
  {
   "cell_type": "markdown",
   "id": "5f58c4bb",
   "metadata": {},
   "source": [
    "This boxplot illustrates a strong positive relationship between lead score and conversion likelihood:\n",
    "\n",
    "- **Converted leads** generally have **higher lead scores**, with a median around **70**.\n",
    "- **Non-converted leads** have a **wider spread** and a lower median near **45**, with more low-scoring outliers.\n",
    "- The difference in distribution confirms that **lead score is a meaningful predictor of conversion**, but not perfect — some high-scoring leads still fail to convert.\n",
    "\n",
    "> This validates the use of lead scoring in prioritizing outreach but suggests the need for further segmentation or personalized follow-ups to close high-potential leads.\n",
    "\n",
    "## Conversion Rate by Lead Score "
   ]
  },
  {
   "cell_type": "code",
   "execution_count": 20,
   "id": "6fd5737e",
   "metadata": {},
   "outputs": [
    {
     "data": {
      "text/html": [
       "<div>\n",
       "<style scoped>\n",
       "    .dataframe tbody tr th:only-of-type {\n",
       "        vertical-align: middle;\n",
       "    }\n",
       "\n",
       "    .dataframe tbody tr th {\n",
       "        vertical-align: top;\n",
       "    }\n",
       "\n",
       "    .dataframe thead th {\n",
       "        text-align: right;\n",
       "    }\n",
       "</style>\n",
       "<table border=\"1\" class=\"dataframe\">\n",
       "  <thead>\n",
       "    <tr style=\"text-align: right;\">\n",
       "      <th></th>\n",
       "      <th>Total Leads</th>\n",
       "      <th>Converted Leads</th>\n",
       "      <th>Conversion Rate</th>\n",
       "    </tr>\n",
       "    <tr>\n",
       "      <th>lead_source</th>\n",
       "      <th></th>\n",
       "      <th></th>\n",
       "      <th></th>\n",
       "    </tr>\n",
       "  </thead>\n",
       "  <tbody>\n",
       "    <tr>\n",
       "      <th>Email</th>\n",
       "      <td>81</td>\n",
       "      <td>33</td>\n",
       "      <td>0.407407</td>\n",
       "    </tr>\n",
       "    <tr>\n",
       "      <th>Google Ads</th>\n",
       "      <td>166</td>\n",
       "      <td>64</td>\n",
       "      <td>0.385542</td>\n",
       "    </tr>\n",
       "    <tr>\n",
       "      <th>Facebook</th>\n",
       "      <td>123</td>\n",
       "      <td>45</td>\n",
       "      <td>0.365854</td>\n",
       "    </tr>\n",
       "    <tr>\n",
       "      <th>Twitter</th>\n",
       "      <td>45</td>\n",
       "      <td>16</td>\n",
       "      <td>0.355556</td>\n",
       "    </tr>\n",
       "    <tr>\n",
       "      <th>LinkedIn</th>\n",
       "      <td>85</td>\n",
       "      <td>28</td>\n",
       "      <td>0.329412</td>\n",
       "    </tr>\n",
       "  </tbody>\n",
       "</table>\n",
       "</div>"
      ],
      "text/plain": [
       "             Total Leads  Converted Leads  Conversion Rate\n",
       "lead_source                                               \n",
       "Email                 81               33         0.407407\n",
       "Google Ads           166               64         0.385542\n",
       "Facebook             123               45         0.365854\n",
       "Twitter               45               16         0.355556\n",
       "LinkedIn              85               28         0.329412"
      ]
     },
     "execution_count": 20,
     "metadata": {},
     "output_type": "execute_result"
    }
   ],
   "source": [
    "# Compute conversion rate by lead source\n",
    "conversion_by_source = df.groupby('lead_source')['converted_flag'].agg(['count', 'sum', 'mean']).sort_values('mean', ascending=False)\n",
    "conversion_by_source.rename(columns={'count': 'Total Leads', 'sum': 'Converted Leads', 'mean': 'Conversion Rate'}, inplace=True)\n",
    "\n",
    "conversion_by_source.head()"
   ]
  },
  {
   "cell_type": "code",
   "execution_count": 22,
   "id": "ac4f22d9",
   "metadata": {},
   "outputs": [
    {
     "data": {
      "text/html": [
       "<style type=\"text/css\">\n",
       "#T_e2a6b_row0_col0 {\n",
       "  background-color: #abdeb7;\n",
       "  color: #000000;\n",
       "}\n",
       "#T_e2a6b_row0_col1 {\n",
       "  background-color: #8cd2ba;\n",
       "  color: #000000;\n",
       "}\n",
       "#T_e2a6b_row0_col2, #T_e2a6b_row1_col0, #T_e2a6b_row1_col1 {\n",
       "  background-color: #081d58;\n",
       "  color: #f1f1f1;\n",
       "}\n",
       "#T_e2a6b_row1_col2 {\n",
       "  background-color: #216aad;\n",
       "  color: #f1f1f1;\n",
       "}\n",
       "#T_e2a6b_row2_col0 {\n",
       "  background-color: #1e88bc;\n",
       "  color: #f1f1f1;\n",
       "}\n",
       "#T_e2a6b_row2_col1 {\n",
       "  background-color: #2397c1;\n",
       "  color: #f1f1f1;\n",
       "}\n",
       "#T_e2a6b_row2_col2 {\n",
       "  background-color: #52bcc2;\n",
       "  color: #000000;\n",
       "}\n",
       "#T_e2a6b_row3_col0, #T_e2a6b_row3_col1, #T_e2a6b_row4_col2 {\n",
       "  background-color: #ffffd9;\n",
       "  color: #000000;\n",
       "}\n",
       "#T_e2a6b_row3_col2 {\n",
       "  background-color: #97d6b9;\n",
       "  color: #000000;\n",
       "}\n",
       "#T_e2a6b_row4_col0 {\n",
       "  background-color: #99d7b8;\n",
       "  color: #000000;\n",
       "}\n",
       "#T_e2a6b_row4_col1 {\n",
       "  background-color: #c6e9b4;\n",
       "  color: #000000;\n",
       "}\n",
       "</style>\n",
       "<table id=\"T_e2a6b\">\n",
       "  <thead>\n",
       "    <tr>\n",
       "      <th class=\"blank level0\" >&nbsp;</th>\n",
       "      <th id=\"T_e2a6b_level0_col0\" class=\"col_heading level0 col0\" >Total Leads</th>\n",
       "      <th id=\"T_e2a6b_level0_col1\" class=\"col_heading level0 col1\" >Converted Leads</th>\n",
       "      <th id=\"T_e2a6b_level0_col2\" class=\"col_heading level0 col2\" >Conversion Rate</th>\n",
       "    </tr>\n",
       "    <tr>\n",
       "      <th class=\"index_name level0\" >lead_source</th>\n",
       "      <th class=\"blank col0\" >&nbsp;</th>\n",
       "      <th class=\"blank col1\" >&nbsp;</th>\n",
       "      <th class=\"blank col2\" >&nbsp;</th>\n",
       "    </tr>\n",
       "  </thead>\n",
       "  <tbody>\n",
       "    <tr>\n",
       "      <th id=\"T_e2a6b_level0_row0\" class=\"row_heading level0 row0\" >Email</th>\n",
       "      <td id=\"T_e2a6b_row0_col0\" class=\"data row0 col0\" >81</td>\n",
       "      <td id=\"T_e2a6b_row0_col1\" class=\"data row0 col1\" >33</td>\n",
       "      <td id=\"T_e2a6b_row0_col2\" class=\"data row0 col2\" >0.407407</td>\n",
       "    </tr>\n",
       "    <tr>\n",
       "      <th id=\"T_e2a6b_level0_row1\" class=\"row_heading level0 row1\" >Google Ads</th>\n",
       "      <td id=\"T_e2a6b_row1_col0\" class=\"data row1 col0\" >166</td>\n",
       "      <td id=\"T_e2a6b_row1_col1\" class=\"data row1 col1\" >64</td>\n",
       "      <td id=\"T_e2a6b_row1_col2\" class=\"data row1 col2\" >0.385542</td>\n",
       "    </tr>\n",
       "    <tr>\n",
       "      <th id=\"T_e2a6b_level0_row2\" class=\"row_heading level0 row2\" >Facebook</th>\n",
       "      <td id=\"T_e2a6b_row2_col0\" class=\"data row2 col0\" >123</td>\n",
       "      <td id=\"T_e2a6b_row2_col1\" class=\"data row2 col1\" >45</td>\n",
       "      <td id=\"T_e2a6b_row2_col2\" class=\"data row2 col2\" >0.365854</td>\n",
       "    </tr>\n",
       "    <tr>\n",
       "      <th id=\"T_e2a6b_level0_row3\" class=\"row_heading level0 row3\" >Twitter</th>\n",
       "      <td id=\"T_e2a6b_row3_col0\" class=\"data row3 col0\" >45</td>\n",
       "      <td id=\"T_e2a6b_row3_col1\" class=\"data row3 col1\" >16</td>\n",
       "      <td id=\"T_e2a6b_row3_col2\" class=\"data row3 col2\" >0.355556</td>\n",
       "    </tr>\n",
       "    <tr>\n",
       "      <th id=\"T_e2a6b_level0_row4\" class=\"row_heading level0 row4\" >LinkedIn</th>\n",
       "      <td id=\"T_e2a6b_row4_col0\" class=\"data row4 col0\" >85</td>\n",
       "      <td id=\"T_e2a6b_row4_col1\" class=\"data row4 col1\" >28</td>\n",
       "      <td id=\"T_e2a6b_row4_col2\" class=\"data row4 col2\" >0.329412</td>\n",
       "    </tr>\n",
       "  </tbody>\n",
       "</table>\n"
      ],
      "text/plain": [
       "<pandas.io.formats.style.Styler at 0x7f397ef16310>"
      ]
     },
     "execution_count": 22,
     "metadata": {},
     "output_type": "execute_result"
    }
   ],
   "source": [
    "conversion_by_source.style.background_gradient(cmap= 'YlGnBu')"
   ]
  },
  {
   "cell_type": "markdown",
   "id": "1128cfd6",
   "metadata": {},
   "source": [
    "- Email generates the highest conversion rate (41%).\n",
    "- LinkedIn performs the worst (33%), suggesting possible drop-offs or misalignment in lead qualification."
   ]
  },
  {
   "cell_type": "code",
   "execution_count": 24,
   "id": "bca40a41",
   "metadata": {},
   "outputs": [],
   "source": [
    "conversion_by_source = conversion_by_source.reset_index()"
   ]
  },
  {
   "cell_type": "code",
   "execution_count": 26,
   "id": "9ac334d8",
   "metadata": {},
   "outputs": [
    {
     "name": "stderr",
     "output_type": "stream",
     "text": [
      "/tmp/ipykernel_56294/499025839.py:3: FutureWarning: \n",
      "\n",
      "Passing `palette` without assigning `hue` is deprecated and will be removed in v0.14.0. Assign the `x` variable to `hue` and set `legend=False` for the same effect.\n",
      "\n",
      "  sns.barplot(data=conversion_by_source, x='lead_source', y='Conversion Rate', palette='viridis')\n"
     ]
    },
    {
     "data": {
      "image/png": "[encoded data removed]",
      "text/plain": [
       "<Figure size 1000x500 with 1 Axes>"
      ]
     },
     "metadata": {},
     "output_type": "display_data"
    }
   ],
   "source": [
    "# Plot\n",
    "plt.figure(figsize=(10, 5))\n",
    "sns.barplot(data=conversion_by_source, x='lead_source', y='Conversion Rate', palette='viridis')\n",
    "plt.title(\"Conversion Rate by Lead Source\")\n",
    "plt.xlabel(\"Lead Source\")\n",
    "plt.ylabel(\"Conversion Rate\")\n",
    "plt.xticks(rotation=45)\n",
    "plt.tight_layout()\n",
    "plt.show()"
   ]
  },
  {
   "cell_type": "markdown",
   "id": "049c2eac",
   "metadata": {},
   "source": [
    "## Lead Score Distribution by Conversion Status"
   ]
  },
  {
   "cell_type": "code",
   "execution_count": 27,
   "id": "e2298e48",
   "metadata": {},
   "outputs": [
    {
     "data": {
      "image/png": "[encoded data removed]",
      "text/plain": [
       "<Figure size 1000x500 with 1 Axes>"
      ]
     },
     "metadata": {},
     "output_type": "display_data"
    }
   ],
   "source": [
    "plt.figure(figsize=(10, 5))\n",
    "sns.histplot(data=df, x='lead_score', hue='converted', bins=20, kde=True,\n",
    "             element='step', stat='density', palette='Set1')\n",
    "plt.title(\"Lead Score Distribution by Conversion Status\")\n",
    "plt.xlabel(\"Lead Score\")\n",
    "plt.ylabel(\"Density\")\n",
    "plt.tight_layout()\n",
    "plt.show()"
   ]
  },
  {
   "cell_type": "markdown",
   "id": "8e45407a",
   "metadata": {},
   "source": [
    "This histogram reveals clear behavioral differences between leads who converted and those who didn’t:\n",
    "\n",
    "- **Converted leads** cluster around **higher Lead Scores** — peaking between **70 and 90**.\n",
    "- **Non-converted leads** dominate the lower score range, especially between **10 and 60**, with a sharp drop-off beyond 70.\n",
    "- There is a **strong positive trend**: as Lead Score increases, so does the likelihood of conversion.\n",
    "- However, some high-scoring leads still do not convert, indicating that **Lead Score alone isn't a perfect predictor** — other factors like timing, follow-up, or relevance may also impact final conversion.\n",
    "\n",
    "> This validates Lead Score as a valuable tool for prioritizing leads, but also suggests the need for additional segmentation or better follow-up strategies for high-scoring but unconverted leads."
   ]
  },
  {
   "cell_type": "markdown",
   "id": "b56cafa1",
   "metadata": {},
   "source": [
    "## Conclusion\n",
    "\n",
    "- The **overall lead conversion rate is 37.2%**, which is reasonable but leaves room for optimization.\n",
    "- **Lead Score is positively associated with conversion** — converted leads tend to have significantly higher scores.\n",
    "- **Email leads convert at the highest rate (40.7%)**, while **LinkedIn lags behind (32.9%)**, despite similar lead volumes.\n",
    "- Some **high-scoring leads (70+) still fail to convert**, particularly from **Google Ads and LinkedIn**, suggesting possible inefficiencies in lead handling or follow-up processes.\n",
    "\n",
    "---\n",
    "\n",
    "### Recommendations:\n",
    "\n",
    "1. **Prioritize High-Scoring Leads**  \n",
    "   - Leads with scores **≥ 70** should receive **fast-tracked outreach** by the sales team.\n",
    "   - Automate alerts or workflows for immediate follow-up on high-potential leads.\n",
    "\n",
    "2. **Audit Underperforming Channels**  \n",
    "   - Investigate why **LinkedIn and Google Ads** underperform despite generating high scores.\n",
    "   - Review targeting, messaging, or post-lead follow-up strategies.\n",
    "\n",
    "3. **Refine Lead Scoring Model**  \n",
    "   - Consider incorporating behavioral or firmographic data to improve predictive power.\n",
    "   - A correlation of **0.26** indicates that **Lead Score is helpful, but not sufficient** alone.\n",
    "\n",
    "4. **Nurture Low-Score Leads**  \n",
    "   - Don’t discard low-score leads outright. Instead, feed them into a **drip campaign** for long-term nurturing.\n",
    "   - Track whether engagement increases their conversion propensity over time.\n",
    "\n",
    "5. **Build a Conversion Dashboard**  \n",
    "   - Track conversion rates, lead score distribution, and lead aging by channel.\n",
    "   - Monitor trends monthly to detect drop-offs or bottlenecks in the funnel early.\n",
    "\n",
    "> By improving how we score, prioritize, and engage with leads—especially high-potential ones—we can meaningfully increase conversion efficiency and reduce funnel leakage.\n"
   ]
  },
  {
   "cell_type": "markdown",
   "id": "3b7b910c",
   "metadata": {},
   "source": []
  }
 ],
 "metadata": {
  "kernelspec": {
   "display_name": "3.11.13",
   "language": "python",
   "name": "python3"
  },
  "language_info": {
   "codemirror_mode": {
    "name": "ipython",
    "version": 3
   },
   "file_extension": ".py",
   "mimetype": "text/x-python",
   "name": "python",
   "nbconvert_exporter": "python",
   "pygments_lexer": "ipython3",
   "version": "3.11.13"
  }
 },
 "nbformat": 4,
 "nbformat_minor": 5
}
